{
 "metadata": {
  "name": "",
  "signature": "sha256:f000d94ae988b7a9b420fcb4ceb33add04c83d6e4368003b2359a88c7e0024ab"
 },
 "nbformat": 3,
 "nbformat_minor": 0,
 "worksheets": [
  {
   "cells": [
    {
     "cell_type": "markdown",
     "metadata": {},
     "source": [
      "<p style=\"text-align:center; font-family:Droid Sans; font-size:350%\"><b>ZODB</b></p>\n",
      "<p style=\"text-align:center; font-family:Droid Sans; font-size:190%\"><i>Um estudo de caso<br><br><br></i></p>"
     ]
    },
    {
     "cell_type": "markdown",
     "metadata": {},
     "source": [
      "<p style=\"font-size: 120%; font-family:URW Palladio L; margin-left: 650px\"><i>\u201c...s\u00f3 aos poucos \u00e9 que o escuro \u00e9 claro.\" (Guimar\u00e3es Rosa)</i></p>"
     ]
    },
    {
     "cell_type": "code",
     "collapsed": false,
     "input": [
      "from BTrees.OOBTree import OOBTree\n",
      "import ZODB, ZODB.FileStorage\n",
      "import transaction\n",
      "import persistent\n",
      "\n",
      "from IPython.display import display, HTML\n",
      "import binascii\n",
      "from datetime import datetime"
     ],
     "language": "python",
     "metadata": {},
     "outputs": [],
     "prompt_number": 26
    },
    {
     "cell_type": "markdown",
     "metadata": {},
     "source": [
      "<html><body><h1 style=\"font-family:Droid Sans\">Declara-se os modelos</h1></body></html>"
     ]
    },
    {
     "cell_type": "code",
     "collapsed": false,
     "input": [
      "class Pessoa(persistent.Persistent):\n",
      "    def __init__(self, nome, idade, ID, dataNasc):\n",
      "        self.nome = ''\n",
      "        self.idade = 0\n",
      "        self.ID = '000-0'\n",
      "        self.foto = None\n",
      "        self.dataNasc = datetime(year=1, month=1, day=1)\n",
      "\n",
      "        self.setNome(nome)\n",
      "        self.setIdade(idade)\n",
      "        self.setID(ID)\n",
      "        self.setDataNasc(dataNasc)\n",
      "\n",
      "    def setNome(self, nome):\n",
      "        if isinstance(nome, str):\n",
      "            self.nome = nome\n",
      "            self._p_changed = True\n",
      "    def setIdade(self, idade):\n",
      "        if idade >= 0:\n",
      "            self.idade  = idade\n",
      "            self._p_changed = True\n",
      "    def setID(self, ID):\n",
      "        if isinstance(ID, str) and len(ID) == 5:\n",
      "            self.ID = ID\n",
      "            self._p_changed = True\n",
      "    def setFoto(self, foto):\n",
      "        self.foto = foto\n",
      "        self._p_changed = True\n",
      "    def setDataNasc(self, dataNasc):\n",
      "        if isinstance(dataNasc, datetime):\n",
      "            self.dataNasc = dataNasc\n",
      "            self._p_changed = True\n",
      "\n",
      "    def getNome(self):\n",
      "        return self.nome\n",
      "    def getIdade(self):\n",
      "        return self.idade\n",
      "    def getID(self):\n",
      "        return self.ID\n",
      "    def getDataNasc(self):\n",
      "        return self.dataNasc\n",
      "    \n",
      "    def getCardHtml(self):\n",
      "        raw_html = '<html><title>W3.CSS</title><meta name=\"viewport\" content=\"width=device-width, initial-scale=1\"><link rel=\"stylesheet\" href=\"http://www.w3schools.com/lib/w3.css\"><body><div class=\"w3-card-4 w3-margin\" style=\"width:70%\"><header class=\"w3-container w3-light-grey\"><h3>{nome}</h3></header><div class=\"w3-container\"><hr><img src=\"data:image/png;base64,{data}\" alt=\"Avatar\" class=\"w3-left w3-circle w3-margin-right\" style=\"width:60px\"><p><b>Nasc: </b>{nasc}</p><p><b>Idade: </b>{idade}</p><p><b>ID: </b>{ID}</p><br></div></div></body></html>'.format(data=self.foto.decode().replace('\\n', ''), nome=self.nome, nasc=str(self.dataNasc)[0:10], idade=self.idade, ID=self.ID)\n",
      "        return raw_html\n",
      "\n",
      "    def __str__(self):\n",
      "        return 'nome: {nome:10}idade: {idade:<5}ID: {ID}'.format(nome=self.nome, idade=str(self.idade), ID=self.ID)\n",
      "\n",
      "class Progenitor(Pessoa):\n",
      "    def __init__(self, nome, idade, ID, dataNasc):\n",
      "        super(Progenitor, self).__init__(nome, idade, ID, dataNasc)\n",
      "        self.filhos = []\n",
      "\n",
      "    def adicionarFilho(self, filho):\n",
      "        if isinstance(filho, Pessoa):\n",
      "            self.filhos.append(filho)\n",
      "            self._p_changed = True\n",
      "\n",
      "    def getFilhos(self):\n",
      "        return self.filhos\n",
      "\n",
      "    def __str__(self):\n",
      "        ret = super(Progenitor, self).__str__()\n",
      "        for filho in self.filhos:\n",
      "            ret += '\\n|\\n+-->{filho}'.format(filho=filho)\n",
      "        return ret\n",
      "\n",
      "def carregarImagem(nomeArq):\n",
      "    data = binascii.b2a_base64(b'')\n",
      "    with open(nomeArq, 'rb') as arq:\n",
      "        raw = arq.read()\n",
      "        data = binascii.b2a_base64(raw)\n",
      "    return data"
     ],
     "language": "python",
     "metadata": {},
     "outputs": []
    },
    {
     "cell_type": "markdown",
     "metadata": {},
     "source": [
      "<h1 style=\"font-family:Droid Sans\">Cria-se uma conex\u00e3o com o BD</h1>"
     ]
    },
    {
     "cell_type": "code",
     "collapsed": false,
     "input": [
      "storage = ZODB.FileStorage.FileStorage('arvoreGenealogica.fs')  # armazena os dados fisicamente no arquivo .fs\n",
      "db = ZODB.DB(storage)  # encapsula o objeto de armazenamento (storage), al\u00e9m de prover o comportamento do DB\n",
      "conn = db.open()  # come\u00e7a uma conex\u00e3o com o DB a fim de podermos realizar transa\u00e7\u00f5es\n",
      "\n",
      "dbroot = conn.root()  # o objeto root funciona como um namespace para todos os outros cont\u00eaineres do DB\n"
     ],
     "language": "python",
     "metadata": {},
     "outputs": []
    },
    {
     "cell_type": "code",
     "collapsed": false,
     "input": [
      "# vamos criar, agora, a estrutura de dados com a qual iremos trabalhar efetivamente\n",
      "if 'userdb' not in dbroot.keys():\n",
      "    dbroot['userdb'] = OOBTree()  # o ZODB trabalha com uma estrutura de dados chamada \u00c1rvore B, que permite buscas mais eficientes\n",
      "\n",
      "userdb = dbroot['userdb']"
     ],
     "language": "python",
     "metadata": {},
     "outputs": []
    },
    {
     "cell_type": "markdown",
     "metadata": {},
     "source": [
      "<h1 style=\"font-family:Droid Sans\">Popula-se o BD</h1>"
     ]
    },
    {
     "cell_type": "code",
     "collapsed": false,
     "input": [
      "henrique = Progenitor('Henrique VIII', 55, '001-1', datetime(year=1491, month=6, day=28))\n",
      "ana = Progenitor('Ana Bolena', 35, '003-1', datetime(year=1501, month=1, day=1))\n",
      "catarina = Progenitor('Catarina de Aragao', 51, '002-1', datetime(year=1485, month=12, day=16))\n",
      "maria = Pessoa('Maria I', 42, '004-2', datetime(year=1516, month=2, day=18))\n",
      "elizabeth = Pessoa('Elizabeth I', 69, '005-2', datetime(year=1533, month=9, day=7))"
     ],
     "language": "python",
     "metadata": {},
     "outputs": []
    },
    {
     "cell_type": "code",
     "collapsed": false,
     "input": [
      "henrique.setFoto(carregarImagem('HenriqueVIII.png'))\n",
      "ana.setFoto(carregarImagem('AnaBolena.png'))\n",
      "catarina.setFoto(carregarImagem('CatarinaDeAragao.png'))\n",
      "maria.setFoto(carregarImagem('Maria.png'))\n",
      "elizabeth.setFoto(carregarImagem('Elizabeth.png'))"
     ],
     "language": "python",
     "metadata": {},
     "outputs": []
    },
    {
     "cell_type": "code",
     "collapsed": false,
     "input": [
      "henrique.adicionarFilho(elizabeth)\n",
      "henrique.adicionarFilho(maria)\n",
      "\n",
      "ana.adicionarFilho(elizabeth)\n",
      "\n",
      "catarina.adicionarFilho(maria)"
     ],
     "language": "python",
     "metadata": {},
     "outputs": []
    },
    {
     "cell_type": "code",
     "collapsed": false,
     "input": [
      "userdb[henrique.getID()] = henrique\n",
      "userdb[ana.getID()] = ana\n",
      "userdb[catarina.getID()] = catarina\n",
      "userdb[maria.getID()] = maria\n",
      "userdb[elizabeth.getID()] = elizabeth"
     ],
     "language": "python",
     "metadata": {},
     "outputs": []
    },
    {
     "cell_type": "markdown",
     "metadata": {},
     "source": [
      "<h1 style=\"font-family:Droid Sans\">Realiza-se uma transa\u00e7\u00e3o ACID com o BD</h1>"
     ]
    },
    {
     "cell_type": "code",
     "collapsed": false,
     "input": [
      "transaction.commit()"
     ],
     "language": "python",
     "metadata": {},
     "outputs": []
    },
    {
     "cell_type": "markdown",
     "metadata": {},
     "source": [
      "<h1 style=\"font-family:Droid Sans\">Alguns <i>queries</i> usando manipula\u00e7\u00e3o de objetos em Python</h1>"
     ]
    },
    {
     "cell_type": "code",
     "collapsed": false,
     "input": [
      "for k in userdb.keys():\n",
      "    display(HTML(userdb.get(k).getCardHtml()))"
     ],
     "language": "python",
     "metadata": {},
     "outputs": []
    },
    {
     "cell_type": "code",
     "collapsed": false,
     "input": [
      "[p for p in userdb if userdb.get(p).getNome() == 'Maria I']"
     ],
     "language": "python",
     "metadata": {},
     "outputs": []
    },
    {
     "cell_type": "code",
     "collapsed": false,
     "input": [
      "progenitores = [p for p in userdb if isinstance(userdb.get(p), Progenitor) and userdb['004-2'] in userdb.get(p).filhos]\n",
      "\n",
      "for progenitor in progenitores:\n",
      "    display(HTML(userdb[progenitor].getCardHtml()))"
     ],
     "language": "python",
     "metadata": {},
     "outputs": []
    },
    {
     "cell_type": "markdown",
     "metadata": {},
     "source": [
      "<h1 style=\"font-family:Droid Sans\">Altera\u00e7\u00e3o de atributo por meio de refer\u00eancia feita por outro objeto</h1>"
     ]
    },
    {
     "cell_type": "code",
     "collapsed": false,
     "input": [
      "f1 = userdb['001-1'].filhos[1]\n",
      "display(HTML('<h3>Antes</h3>' + f1.getCardHtml()))\n",
      "f1.setIdade(180)\n",
      "display(HTML('<h3>Depois</h3>' + userdb['004-2'].getCardHtml()))"
     ],
     "language": "python",
     "metadata": {},
     "outputs": []
    },
    {
     "cell_type": "code",
     "collapsed": false,
     "input": [
      "# Encerra-se a conex\u00e3o com o BD\n",
      "transaction.abort()\n",
      "conn.close()\n",
      "db.close()\n",
      "storage.close()"
     ],
     "language": "python",
     "metadata": {},
     "outputs": []
    },
    {
     "cell_type": "markdown",
     "metadata": {},
     "source": [
      "<h1 style=\"font-family:URW Palladio L; margin-left: 500px; font-size:200%\"><i>\"E quindi uscimmo a riveder le stelle.\"</i></h1>\n",
      "<p style=\"font-family:URW Palladio L; margin-left: 500px;font-size:120%\"><i>(Dante Alighieri)</i></p>"
     ]
    }
   ],
   "metadata": {}
  }
 ]
}